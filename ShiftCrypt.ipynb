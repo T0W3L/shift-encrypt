{
 "cells": [
  {
   "cell_type": "code",
   "metadata": {
    "cell_id": "00009-86581b3c-2c02-4308-94f5-8a8578d3072e",
    "deepnote_to_be_reexecuted": false,
    "source_hash": "3dfd776b",
    "execution_start": 1627764209424,
    "execution_millis": 3,
    "deepnote_cell_type": "code"
   },
   "source": "def shift(s,n):\n    return ''.join(chr(ord(char) - n) for char in s)\n\ndef deshift(s,n):\n    return ''.join(chr(ord(char) + n) for char in s)\n\n## create shift/deshift, uses ord to get integer of character\n## turns back into str using chr\n## uses ''.join to add spaces as it iterates through characters",
   "outputs": [],
   "execution_count": 1
  },
  {
   "cell_type": "code",
   "metadata": {
    "tags": [],
    "cell_id": "00003-92f80d9d-f8c9-4978-b5e4-67a854f38194",
    "deepnote_to_be_reexecuted": false,
    "source_hash": "e9c399ea",
    "execution_start": 1627764209429,
    "execution_millis": 3,
    "deepnote_cell_type": "code"
   },
   "source": "def shiftencrypt(filename,n):\n    \n    with open(filename,'r') as file:\n        text = file.read()\n    ## read file\n\n    lockedtext = shift(text,n)\n    ## shift text\n\n    with open(filename,'w') as file:\n        file.write(lockedtext)\n        file.write('LOCKED')\n    ## writes to file, adds 'LOCKED' to end\n    \n    print(lockedtext)",
   "outputs": [],
   "execution_count": 2
  },
  {
   "cell_type": "code",
   "metadata": {
    "tags": [],
    "cell_id": "00004-0fc75e0d-0674-458c-a81d-3815f6d8ea64",
    "deepnote_to_be_reexecuted": false,
    "source_hash": "1670dab8",
    "execution_start": 1627764209438,
    "execution_millis": 3,
    "deepnote_cell_type": "code"
   },
   "source": "def shiftdecrypt(filename,n):\n    \n    with open(filename,'r') as file:\n        text = file.read()\n        text = text.removesuffix('LOCKED')\n    ## reads file and removes 'LOCKED' suffix\n    \n    unlockedtext = deshift(text,n)\n    ## deshift text\n\n    with open(filename,'w') as file:\n        file.write(unlockedtext)\n    ## write deshifted text into file\n    \n    print(unlockedtext)",
   "outputs": [],
   "execution_count": 3
  },
  {
   "cell_type": "code",
   "metadata": {
    "tags": [],
    "cell_id": "00010-4241735d-b733-4228-befe-4bd392410963",
    "deepnote_to_be_reexecuted": false,
    "source_hash": "becd36fc",
    "execution_start": 1627766025707,
    "execution_millis": 1,
    "deepnote_cell_type": "code"
   },
   "source": "def auto(filename,n):\n\n    with open(filename,'r') as file:\n        text = file.read()\n    ## read file\n\n    if(text.endswith('LOCKED')):\n        shiftdecrypt(filename,n)\n    else:\n        shiftencrypt(filename,n)\n    \n    ## look for 'LOCKED' suffix and shift/deshift accordingly",
   "outputs": [],
   "execution_count": 10
  },
  {
   "cell_type": "code",
   "metadata": {
    "tags": [],
    "cell_id": "00009-0d55e3c9-7573-4b14-8577-882d1ec4c19e",
    "deepnote_to_be_reexecuted": false,
    "source_hash": "990d177b",
    "execution_start": 1627766030370,
    "execution_millis": 9,
    "deepnote_cell_type": "code"
   },
   "source": "auto('writing.txt',1)",
   "outputs": [
    {
     "name": "stdout",
     "text": "Asbestos (pronounced: /æsˈbɛstɒs/ or /æsˈbɛstəs/) is a naturally occurring fibrous silicate mineral. There are six types, all of which are composed of long and thin fibrous crystals, each fibre being composed of many microscopic \"fibrils\" that can be released into the atmosphere by abrasion and other processes. Inhalation of asbestos fibres can lead to various serious lung conditions, including asbestosis and cancer, so it is now notorious as a health and safety hazard.[1]\n\nArchaeological studies have found evidence of asbestos being used as far back as the Stone Age to strengthen ceramic pots,[2] but large-scale mining began at the end of the 19th century when manufacturers and builders began using asbestos for its desirable physical properties. Asbestos is an excellent electrical insulator and is highly heat-resistant, so for much of the 20th century it was widely used across the world as a building material until its effects on human health were recognized in the 1970s.[3][4] Many modern buildings constructed before the 1980s are thought to contain asbestos.[5]\n\nInhalation of asbestos fibres can lead to various serious lung conditions, including asbestosis and cancer, so it is now notorious as a health and safety hazard.[1] The use of asbestos for construction and fireproofing has been made illegal in many countries.[1] Despite this, at least 100,000 people are thought to die each year from diseases related to asbestos exposure. In part, this is because many older buildings still contain asbestos; in addition, the consequences of exposure can take decades to arise.[5][6]\n\nMany developing countries still support the use of asbestos as a building material, and mining of asbestos is ongoing, with top producer Russia having an estimated production of 790,000 tonnes in 2020.[7]\n",
     "output_type": "stream"
    }
   ],
   "execution_count": 12
  },
  {
   "cell_type": "markdown",
   "source": "<a style='text-decoration:none;line-height:16px;display:flex;color:#5B5B62;padding:10px;justify-content:end;' href='https://deepnote.com?utm_source=created-in-deepnote-cell&projectId=de2812da-1889-4af6-a4b3-c6c5f670228a' target=\"_blank\">\n<img alt='Created in deepnote.com' style='display:inline;max-height:16px;margin:0px;margin-right:7.5px;' src='data:image/svg+xml;base64,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' > </img>\nCreated in <span style='font-weight:600;margin-left:4px;'>Deepnote</span></a>",
   "metadata": {
    "tags": [],
    "created_in_deepnote_cell": true,
    "deepnote_cell_type": "markdown"
   }
  }
 ],
 "nbformat": 4,
 "nbformat_minor": 5,
 "metadata": {
  "kernelspec": {
   "display_name": "Python 3",
   "language": "python",
   "name": "python3"
  },
  "language_info": {
   "codemirror_mode": {
    "name": "ipython",
    "version": 3
   },
   "file_extension": ".py",
   "mimetype": "text/x-python",
   "name": "python",
   "nbconvert_exporter": "python",
   "pygments_lexer": "ipython3",
   "version": "3.8.8"
  },
  "deepnote_notebook_id": "cea87074-9d5c-4160-86da-1d83514a1b38",
  "deepnote": {},
  "deepnote_execution_queue": []
 }
}